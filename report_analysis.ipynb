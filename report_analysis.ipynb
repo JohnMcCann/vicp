{
 "cells": [
  {
   "cell_type": "markdown",
   "metadata": {},
   "source": [
    "# National Vaccine Injury Compensation Program (vicp)"
   ]
  },
  {
   "cell_type": "code",
   "execution_count": null,
   "metadata": {},
   "outputs": [],
   "source": [
    "import numpy as np\n",
    "import matplotlib.pyplot as plt\n",
    "import matplotlib.ticker as mtick\n",
    "\n",
    "cc = plt.rcParams[\"axes.prop_cycle\"].by_key()[\"color\"]\n",
    "\n",
    "from vicp import vicp"
   ]
  },
  {
   "cell_type": "markdown",
   "metadata": {},
   "source": [
    "## Load vicp report\n",
    "\n",
    "Should download the vicp report from the hrse.gov site. (Only vetted for December 2020 report, unfortunately tabula is not smart enough to autoscrap the data and needed a template.)"
   ]
  },
  {
   "cell_type": "code",
   "execution_count": null,
   "metadata": {},
   "outputs": [],
   "source": [
    "data = vicp()"
   ]
  },
  {
   "cell_type": "markdown",
   "metadata": {},
   "source": [
    "## vicp tables\n",
    "\n",
    "The vicp object has five dataframes for each table in the report. They dataframes are named: `adjudications`, `petitions`,  `annual_petitions`, `annual_adjudications`, and `awards`."
   ]
  },
  {
   "cell_type": "code",
   "execution_count": null,
   "metadata": {},
   "outputs": [],
   "source": [
    "data.awards"
   ]
  },
  {
   "cell_type": "markdown",
   "metadata": {},
   "source": [
    "# Vaccine Plots\n",
    "\n",
    "Here is a bar chart of the number of petitions filed relating to each vaccine, see report document for details."
   ]
  },
  {
   "cell_type": "code",
   "execution_count": null,
   "metadata": {},
   "outputs": [],
   "source": [
    "x = data.petitions.Vaccine\n",
    "y1 = data.petitions.Death\n",
    "y2 = data.petitions.Injury\n",
    "\n",
    "report = [y1+y2 != 0][0]\n",
    "x, y1, y2 = x[report], y1[report], y2[report]\n",
    "\n",
    "order = np.argsort(y1+y2)\n",
    "x, y1, y2 = x[order], y1[order], y2[order]\n",
    "\n",
    "\n",
    "fig, ax = plt.subplots()\n",
    "b1 = ax.bar(x, y1, color=cc[3], label='Deaths')\n",
    "b2 = ax.bar(x, y2, bottom=y1, color=cc[0], label='Injuries')\n",
    "ax.set_yscale('log')\n",
    "ax.set_xlabel('Vaccine', labelpad=20)\n",
    "ax.set_ylabel('Adverse Incidents')\n",
    "ax.set_title('Petitions between 1988-2020')\n",
    "ax.legend()\n",
    "plt.draw()\n",
    "for rect, label, height in zip(b2, ax.get_xticklabels(), y1+y2):\n",
    "    label = label._text.strip()\n",
    "    ax.annotate('{}'.format(label),\n",
    "                xy=(rect.get_x() + rect.get_width() / 2, height),\n",
    "                xytext=(0, -3), textcoords=\"offset points\", rotation=90,\n",
    "                ha='center', va='top', fontsize=12)\n",
    "ax.get_xaxis().set_ticks([])\n",
    "fig.tight_layout();"
   ]
  },
  {
   "cell_type": "markdown",
   "metadata": {},
   "source": [
    "### Vaccine adverse rate\n",
    "\n",
    "The next bar chart shows an inferred adverse incident rate for each vaccine. The bounds on the rates are arguable, as not all adverse incidents suffered will be process by the vicp, and on the other hand not all petitions have merit. Regardless, these rates should be representative of the rate of adverse effects for each vaccine.\n",
    "\n",
    "*Deaths and Injuries are estimated from the larger 1988-2020 petition data."
   ]
  },
  {
   "cell_type": "code",
   "execution_count": null,
   "metadata": {},
   "outputs": [],
   "source": [
    "df = data.adjudications.merge(data.petitions, how='inner', on=['Vaccine'])\n",
    "\n",
    "x = df.Vaccine.values\n",
    "y = np.divide(df.Totals_x, df.Doses, out=np.zeros(len(df.Totals_x)),\n",
    "              where=(df.Doses!=0)).values\n",
    "f = (df.Death/df.Totals_y).values\n",
    "\n",
    "report = (y != 0)\n",
    "x, y, f = x[report], y[report], f[report]\n",
    "\n",
    "order = np.argsort(y)\n",
    "x, y, f = x[order], y[order], f[order]\n",
    "\n",
    "fig, ax = plt.subplots()\n",
    "bar = ax.bar(x, y, color=cc[0], label=r'Injury$^*$')\n",
    "ax.bar(x, f*y, color=cc[3], label=r'Death$^*$')\n",
    "\n",
    "ax.set_xlabel('Vaccine', labelpad=20)\n",
    "ax.set_ylabel('Adverse Rate')\n",
    "ax.set_title('Vaccine Adverse Petition Rate per Dose\\nBetween 2006 and 2020', pad=10)\n",
    "ax.legend(fontsize=18)\n",
    "ax.set_ylim([1e-8, 1e-4])\n",
    "ax.set_yscale('log')\n",
    "plt.draw()\n",
    "for rect, label, height in zip(bar, ax.get_xticklabels(), y):\n",
    "    label = label._text.strip()\n",
    "    if height == 0:\n",
    "        continue\n",
    "    ax.annotate('{}'.format(label),\n",
    "                xy=(rect.get_x() + rect.get_width() / 2, height),\n",
    "                xytext=(0, -3), textcoords=\"offset points\", rotation=90,\n",
    "                ha='center', va='top', fontsize=12)\n",
    "\n",
    "ylims = ax.get_ylim()\n",
    "outof = np.logspace(-9, -2, 8)\n",
    "outof_text = [f'1 out of {round(1/x):,d}' for x in outof]\n",
    "for of, text in zip(outof, outof_text):\n",
    "    ax.axhline(of, c=cc[7], zorder=0, ls='--', alpha=0.4, lw=2)\n",
    "    shift = 1.15\n",
    "    if of < y[5]/shift or of > ylims[1]/shift or of < ylims[0]*shift:\n",
    "        continue\n",
    "    ax.text(0, shift*of, text, color=cc[7], fontsize=10, zorder=0)\n",
    "\n",
    "ax.get_xaxis().set_ticks([])\n",
    "fig.tight_layout()\n",
    "\n",
    "fig.savefig('adverse_rate.png', facecolor=fig.get_facecolor(), edgecolor='none',\n",
    "            bbox_inches='tight')"
   ]
  },
  {
   "cell_type": "markdown",
   "metadata": {},
   "source": [
    "The next plot is the rate at which petitions are filed with the vicp"
   ]
  },
  {
   "cell_type": "code",
   "execution_count": null,
   "metadata": {},
   "outputs": [],
   "source": [
    "fig, ax = plt.subplots()\n",
    "ax.plot(data.annual_petitions['Fiscal Year'], data.annual_petitions['Total'],\n",
    "        '-', lw=4, c=cc[7])\n",
    "ax.plot(data.annual_petitions['Fiscal Year'], data.annual_petitions['Total'],\n",
    "        'P', ms=15, c=cc[3])\n",
    "ax.set_title('Petitions Filed (Annual)')\n",
    "ax.set_xlabel('Year')\n",
    "ax.set_ylabel('Petitions Filed')\n",
    "fig.autofmt_xdate()\n",
    "fig.tight_layout()"
   ]
  },
  {
   "cell_type": "markdown",
   "metadata": {},
   "source": [
    "The next two plots show the average compenstion of a petition that was deemed to have merit and requiring compensation from the fund. The first plot is the average compensation to the victim's family and the second plot is the average fees collected by lawyers represented the victims."
   ]
  },
  {
   "cell_type": "code",
   "execution_count": null,
   "metadata": {},
   "outputs": [],
   "source": [
    "x = data.awards['Year']\n",
    "y1 = (data.awards['Attorney Fees']\n",
    "      +data.awards['Interim Fees'])/data.awards['Awards']\n",
    "y2 = data.awards['Amount']/data.awards['Awards']-y1\n",
    "\n",
    "fig, ax = plt.subplots()\n",
    "ax.plot(x, y2, ':', c=cc[5])\n",
    "ax.plot(x, y2, 'x', ms=10, mew=5, c=cc[8])\n",
    "ax.set_xlabel('Year')\n",
    "ax.set_ylabel('Compensation')\n",
    "ax.set_title(\"Average Compensation to Victim's Family\", pad=10)\n",
    "fmt = '${x:,.0f}'\n",
    "tick = mtick.StrMethodFormatter(fmt)\n",
    "ax.yaxis.set_major_formatter(tick)\n",
    "fig.autofmt_xdate()\n",
    "fig.tight_layout()\n",
    "fig.savefig('victim_compensation.png', facecolor=fig.get_facecolor(),\n",
    "            edgecolor='none', bbox_inches='tight')\n",
    "\n",
    "fig, ax = plt.subplots()\n",
    "ax.plot(x, y1, ':', c=cc[9])\n",
    "ax.plot(x, y1, 'x', ms=10, mew=5, c=cc[6])\n",
    "ax.set_xlabel('Year')\n",
    "ax.set_ylabel('Fees')\n",
    "ax.set_title(\"Average Legal Fees\\n(Victim Compensated)\", pad=10)\n",
    "fmt = '${x:,.0f}'\n",
    "tick = mtick.StrMethodFormatter(fmt)\n",
    "ax.yaxis.set_major_formatter(tick)\n",
    "fig.autofmt_xdate()\n",
    "fig.tight_layout()\n",
    "fig.savefig('legal_fees.png', facecolor=fig.get_facecolor(), edgecolor='none',\n",
    "            bbox_inches='tight')"
   ]
  }
 ],
 "metadata": {
  "kernelspec": {
   "display_name": "Python 3",
   "language": "python",
   "name": "python3"
  },
  "language_info": {
   "codemirror_mode": {
    "name": "ipython",
    "version": 3
   },
   "file_extension": ".py",
   "mimetype": "text/x-python",
   "name": "python",
   "nbconvert_exporter": "python",
   "pygments_lexer": "ipython3",
   "version": "3.7.9"
  }
 },
 "nbformat": 4,
 "nbformat_minor": 4
}
